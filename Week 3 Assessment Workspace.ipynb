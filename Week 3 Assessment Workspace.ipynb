{
 "cells": [
  {
   "cell_type": "markdown",
   "metadata": {
    "cell_id": "00000-4768447b-0248-467f-92d6-df7450eac4a0",
    "deepnote_cell_type": "text-cell-h2",
    "tags": []
   },
   "source": [
    "## Wearable Tech: Week 3 Assignment"
   ]
  },
  {
   "cell_type": "markdown",
   "metadata": {
    "cell_id": "00002-78e1221d-7427-448a-b297-484579250b61",
    "deepnote_cell_type": "markdown",
    "tags": []
   },
   "source": [
    "### Step 1"
   ]
  },
  {
   "cell_type": "code",
   "execution_count": 10,
   "metadata": {
    "cell_id": "00003-13cd0930-522f-4625-b583-0167a1f81817",
    "deepnote_cell_type": "code",
    "deepnote_to_be_reexecuted": false,
    "execution_millis": 7090,
    "execution_start": 1623677260549,
    "source_hash": "626085b7",
    "tags": []
   },
   "outputs": [
    {
     "data": {
      "text/html": [
       "<div>\n",
       "<style scoped>\n",
       "    .dataframe tbody tr th:only-of-type {\n",
       "        vertical-align: middle;\n",
       "    }\n",
       "\n",
       "    .dataframe tbody tr th {\n",
       "        vertical-align: top;\n",
       "    }\n",
       "\n",
       "    .dataframe thead th {\n",
       "        text-align: right;\n",
       "    }\n",
       "</style>\n",
       "<table border=\"1\" class=\"dataframe\">\n",
       "  <thead>\n",
       "    <tr style=\"text-align: right;\">\n",
       "      <th></th>\n",
       "      <th>Seconds</th>\n",
       "      <th>Velocity</th>\n",
       "      <th>Acceleration</th>\n",
       "      <th>Odometer</th>\n",
       "      <th>Latitude</th>\n",
       "      <th>Longitude</th>\n",
       "      <th>Heart Rate</th>\n",
       "      <th>Player Load</th>\n",
       "      <th>AthleteID</th>\n",
       "    </tr>\n",
       "    <tr>\n",
       "      <th>Timestamp</th>\n",
       "      <th></th>\n",
       "      <th></th>\n",
       "      <th></th>\n",
       "      <th></th>\n",
       "      <th></th>\n",
       "      <th></th>\n",
       "      <th></th>\n",
       "      <th></th>\n",
       "      <th></th>\n",
       "    </tr>\n",
       "  </thead>\n",
       "  <tbody>\n",
       "    <tr>\n",
       "      <th>2019-01-08 17:39:42</th>\n",
       "      <td>0.0</td>\n",
       "      <td>0</td>\n",
       "      <td>0</td>\n",
       "      <td>0</td>\n",
       "      <td>0</td>\n",
       "      <td>0</td>\n",
       "      <td>83</td>\n",
       "      <td>0.0</td>\n",
       "      <td>Athlete 1</td>\n",
       "    </tr>\n",
       "    <tr>\n",
       "      <th>2019-01-08 17:39:42</th>\n",
       "      <td>0.1</td>\n",
       "      <td>0</td>\n",
       "      <td>0</td>\n",
       "      <td>0</td>\n",
       "      <td>0</td>\n",
       "      <td>0</td>\n",
       "      <td>83</td>\n",
       "      <td>0.0</td>\n",
       "      <td>Athlete 1</td>\n",
       "    </tr>\n",
       "    <tr>\n",
       "      <th>2019-01-08 17:39:42</th>\n",
       "      <td>0.2</td>\n",
       "      <td>0</td>\n",
       "      <td>0</td>\n",
       "      <td>0</td>\n",
       "      <td>0</td>\n",
       "      <td>0</td>\n",
       "      <td>83</td>\n",
       "      <td>0.0</td>\n",
       "      <td>Athlete 1</td>\n",
       "    </tr>\n",
       "    <tr>\n",
       "      <th>2019-01-08 17:39:42</th>\n",
       "      <td>0.3</td>\n",
       "      <td>0</td>\n",
       "      <td>0</td>\n",
       "      <td>0</td>\n",
       "      <td>0</td>\n",
       "      <td>0</td>\n",
       "      <td>83</td>\n",
       "      <td>0.0</td>\n",
       "      <td>Athlete 1</td>\n",
       "    </tr>\n",
       "    <tr>\n",
       "      <th>2019-01-08 17:39:42</th>\n",
       "      <td>0.4</td>\n",
       "      <td>0</td>\n",
       "      <td>0</td>\n",
       "      <td>0</td>\n",
       "      <td>0</td>\n",
       "      <td>0</td>\n",
       "      <td>83</td>\n",
       "      <td>0.0</td>\n",
       "      <td>Athlete 1</td>\n",
       "    </tr>\n",
       "    <tr>\n",
       "      <th>...</th>\n",
       "      <td>...</td>\n",
       "      <td>...</td>\n",
       "      <td>...</td>\n",
       "      <td>...</td>\n",
       "      <td>...</td>\n",
       "      <td>...</td>\n",
       "      <td>...</td>\n",
       "      <td>...</td>\n",
       "      <td>...</td>\n",
       "    </tr>\n",
       "    <tr>\n",
       "      <th>2019-03-08 16:47:03</th>\n",
       "      <td>11484.4</td>\n",
       "      <td>0</td>\n",
       "      <td>0</td>\n",
       "      <td>0</td>\n",
       "      <td>0</td>\n",
       "      <td>0</td>\n",
       "      <td>101</td>\n",
       "      <td>1001.5</td>\n",
       "      <td>Athlete 5</td>\n",
       "    </tr>\n",
       "    <tr>\n",
       "      <th>2019-03-08 16:47:03</th>\n",
       "      <td>11484.5</td>\n",
       "      <td>0</td>\n",
       "      <td>0</td>\n",
       "      <td>0</td>\n",
       "      <td>0</td>\n",
       "      <td>0</td>\n",
       "      <td>101</td>\n",
       "      <td>1001.5</td>\n",
       "      <td>Athlete 5</td>\n",
       "    </tr>\n",
       "    <tr>\n",
       "      <th>2019-03-08 16:47:03</th>\n",
       "      <td>11484.6</td>\n",
       "      <td>0</td>\n",
       "      <td>0</td>\n",
       "      <td>0</td>\n",
       "      <td>0</td>\n",
       "      <td>0</td>\n",
       "      <td>101</td>\n",
       "      <td>1001.5</td>\n",
       "      <td>Athlete 5</td>\n",
       "    </tr>\n",
       "    <tr>\n",
       "      <th>2019-03-08 16:47:03</th>\n",
       "      <td>11484.7</td>\n",
       "      <td>0</td>\n",
       "      <td>0</td>\n",
       "      <td>0</td>\n",
       "      <td>0</td>\n",
       "      <td>0</td>\n",
       "      <td>101</td>\n",
       "      <td>1001.5</td>\n",
       "      <td>Athlete 5</td>\n",
       "    </tr>\n",
       "    <tr>\n",
       "      <th>2019-03-08 16:47:04</th>\n",
       "      <td>11484.8</td>\n",
       "      <td>0</td>\n",
       "      <td>0</td>\n",
       "      <td>0</td>\n",
       "      <td>0</td>\n",
       "      <td>0</td>\n",
       "      <td>101</td>\n",
       "      <td>1001.5</td>\n",
       "      <td>Athlete 5</td>\n",
       "    </tr>\n",
       "  </tbody>\n",
       "</table>\n",
       "<p>4016839 rows × 9 columns</p>\n",
       "</div>"
      ],
      "text/plain": [
       "                     Seconds  Velocity  Acceleration  Odometer  Latitude  \\\n",
       "Timestamp                                                                  \n",
       "2019-01-08 17:39:42      0.0         0             0         0         0   \n",
       "2019-01-08 17:39:42      0.1         0             0         0         0   \n",
       "2019-01-08 17:39:42      0.2         0             0         0         0   \n",
       "2019-01-08 17:39:42      0.3         0             0         0         0   \n",
       "2019-01-08 17:39:42      0.4         0             0         0         0   \n",
       "...                      ...       ...           ...       ...       ...   \n",
       "2019-03-08 16:47:03  11484.4         0             0         0         0   \n",
       "2019-03-08 16:47:03  11484.5         0             0         0         0   \n",
       "2019-03-08 16:47:03  11484.6         0             0         0         0   \n",
       "2019-03-08 16:47:03  11484.7         0             0         0         0   \n",
       "2019-03-08 16:47:04  11484.8         0             0         0         0   \n",
       "\n",
       "                     Longitude  Heart Rate  Player Load  AthleteID  \n",
       "Timestamp                                                           \n",
       "2019-01-08 17:39:42          0          83          0.0  Athlete 1  \n",
       "2019-01-08 17:39:42          0          83          0.0  Athlete 1  \n",
       "2019-01-08 17:39:42          0          83          0.0  Athlete 1  \n",
       "2019-01-08 17:39:42          0          83          0.0  Athlete 1  \n",
       "2019-01-08 17:39:42          0          83          0.0  Athlete 1  \n",
       "...                        ...         ...          ...        ...  \n",
       "2019-03-08 16:47:03          0         101       1001.5  Athlete 5  \n",
       "2019-03-08 16:47:03          0         101       1001.5  Athlete 5  \n",
       "2019-03-08 16:47:03          0         101       1001.5  Athlete 5  \n",
       "2019-03-08 16:47:03          0         101       1001.5  Athlete 5  \n",
       "2019-03-08 16:47:04          0         101       1001.5  Athlete 5  \n",
       "\n",
       "[4016839 rows x 9 columns]"
      ]
     },
     "execution_count": 10,
     "metadata": {},
     "output_type": "execute_result"
    }
   ],
   "source": [
    "import numpy as np\n",
    "import pandas as pd\n",
    "from matplotlib import pyplot as plt\n",
    "import seaborn as sn\n",
    "import matplotlib.dates as mdates\n",
    "\n",
    "from datetime import datetime\n",
    "import plotly.graph_objects as go\n",
    "\n",
    "df = pd.read_csv(\"../Data/WBBtotal.csv\", index_col =[\"Timestamp\"], parse_dates=[\"Timestamp\"])\n",
    "df"
   ]
  },
  {
   "cell_type": "code",
   "execution_count": 11,
   "metadata": {},
   "outputs": [
    {
     "name": "stdout",
     "output_type": "stream",
     "text": [
      "<class 'pandas.core.frame.DataFrame'>\n",
      "DatetimeIndex: 4016839 entries, 2019-01-08 17:39:42 to 2019-03-08 16:47:04\n",
      "Data columns (total 9 columns):\n",
      " #   Column        Dtype  \n",
      "---  ------        -----  \n",
      " 0   Seconds       float64\n",
      " 1   Velocity      int64  \n",
      " 2   Acceleration  int64  \n",
      " 3   Odometer      int64  \n",
      " 4   Latitude      int64  \n",
      " 5   Longitude     int64  \n",
      " 6   Heart Rate    int64  \n",
      " 7   Player Load   float64\n",
      " 8   AthleteID     object \n",
      "dtypes: float64(2), int64(6), object(1)\n",
      "memory usage: 306.5+ MB\n"
     ]
    }
   ],
   "source": [
    "df.info()"
   ]
  },
  {
   "cell_type": "markdown",
   "metadata": {
    "cell_id": "00006-f063d56a-3600-400e-a4dc-3c782278b48d",
    "deepnote_cell_type": "markdown",
    "tags": []
   },
   "source": [
    "### Step 2"
   ]
  },
  {
   "cell_type": "code",
   "execution_count": 12,
   "metadata": {
    "cell_id": "00008-69ab5b92-65d3-46b0-81fe-2396b1f488a7",
    "deepnote_cell_type": "code",
    "deepnote_to_be_reexecuted": false,
    "execution_millis": 247,
    "execution_start": 1623677291597,
    "source_hash": "527ed305",
    "tags": []
   },
   "outputs": [
    {
     "data": {
      "text/html": [
       "<div>\n",
       "<style scoped>\n",
       "    .dataframe tbody tr th:only-of-type {\n",
       "        vertical-align: middle;\n",
       "    }\n",
       "\n",
       "    .dataframe tbody tr th {\n",
       "        vertical-align: top;\n",
       "    }\n",
       "\n",
       "    .dataframe thead th {\n",
       "        text-align: right;\n",
       "    }\n",
       "</style>\n",
       "<table border=\"1\" class=\"dataframe\">\n",
       "  <thead>\n",
       "    <tr style=\"text-align: right;\">\n",
       "      <th></th>\n",
       "      <th>Seconds</th>\n",
       "      <th>Heart Rate</th>\n",
       "      <th>Player Load</th>\n",
       "      <th>AthleteID</th>\n",
       "    </tr>\n",
       "    <tr>\n",
       "      <th>Timestamp</th>\n",
       "      <th></th>\n",
       "      <th></th>\n",
       "      <th></th>\n",
       "      <th></th>\n",
       "    </tr>\n",
       "  </thead>\n",
       "  <tbody>\n",
       "    <tr>\n",
       "      <th>2019-01-08 17:39:42</th>\n",
       "      <td>0.0</td>\n",
       "      <td>83</td>\n",
       "      <td>0.0</td>\n",
       "      <td>Athlete 1</td>\n",
       "    </tr>\n",
       "    <tr>\n",
       "      <th>2019-01-08 17:39:42</th>\n",
       "      <td>0.1</td>\n",
       "      <td>83</td>\n",
       "      <td>0.0</td>\n",
       "      <td>Athlete 1</td>\n",
       "    </tr>\n",
       "    <tr>\n",
       "      <th>2019-01-08 17:39:42</th>\n",
       "      <td>0.2</td>\n",
       "      <td>83</td>\n",
       "      <td>0.0</td>\n",
       "      <td>Athlete 1</td>\n",
       "    </tr>\n",
       "    <tr>\n",
       "      <th>2019-01-08 17:39:42</th>\n",
       "      <td>0.3</td>\n",
       "      <td>83</td>\n",
       "      <td>0.0</td>\n",
       "      <td>Athlete 1</td>\n",
       "    </tr>\n",
       "    <tr>\n",
       "      <th>2019-01-08 17:39:42</th>\n",
       "      <td>0.4</td>\n",
       "      <td>83</td>\n",
       "      <td>0.0</td>\n",
       "      <td>Athlete 1</td>\n",
       "    </tr>\n",
       "    <tr>\n",
       "      <th>...</th>\n",
       "      <td>...</td>\n",
       "      <td>...</td>\n",
       "      <td>...</td>\n",
       "      <td>...</td>\n",
       "    </tr>\n",
       "    <tr>\n",
       "      <th>2019-03-08 16:47:03</th>\n",
       "      <td>11484.4</td>\n",
       "      <td>101</td>\n",
       "      <td>1001.5</td>\n",
       "      <td>Athlete 5</td>\n",
       "    </tr>\n",
       "    <tr>\n",
       "      <th>2019-03-08 16:47:03</th>\n",
       "      <td>11484.5</td>\n",
       "      <td>101</td>\n",
       "      <td>1001.5</td>\n",
       "      <td>Athlete 5</td>\n",
       "    </tr>\n",
       "    <tr>\n",
       "      <th>2019-03-08 16:47:03</th>\n",
       "      <td>11484.6</td>\n",
       "      <td>101</td>\n",
       "      <td>1001.5</td>\n",
       "      <td>Athlete 5</td>\n",
       "    </tr>\n",
       "    <tr>\n",
       "      <th>2019-03-08 16:47:03</th>\n",
       "      <td>11484.7</td>\n",
       "      <td>101</td>\n",
       "      <td>1001.5</td>\n",
       "      <td>Athlete 5</td>\n",
       "    </tr>\n",
       "    <tr>\n",
       "      <th>2019-03-08 16:47:04</th>\n",
       "      <td>11484.8</td>\n",
       "      <td>101</td>\n",
       "      <td>1001.5</td>\n",
       "      <td>Athlete 5</td>\n",
       "    </tr>\n",
       "  </tbody>\n",
       "</table>\n",
       "<p>4016839 rows × 4 columns</p>\n",
       "</div>"
      ],
      "text/plain": [
       "                     Seconds  Heart Rate  Player Load  AthleteID\n",
       "Timestamp                                                       \n",
       "2019-01-08 17:39:42      0.0          83          0.0  Athlete 1\n",
       "2019-01-08 17:39:42      0.1          83          0.0  Athlete 1\n",
       "2019-01-08 17:39:42      0.2          83          0.0  Athlete 1\n",
       "2019-01-08 17:39:42      0.3          83          0.0  Athlete 1\n",
       "2019-01-08 17:39:42      0.4          83          0.0  Athlete 1\n",
       "...                      ...         ...          ...        ...\n",
       "2019-03-08 16:47:03  11484.4         101       1001.5  Athlete 5\n",
       "2019-03-08 16:47:03  11484.5         101       1001.5  Athlete 5\n",
       "2019-03-08 16:47:03  11484.6         101       1001.5  Athlete 5\n",
       "2019-03-08 16:47:03  11484.7         101       1001.5  Athlete 5\n",
       "2019-03-08 16:47:04  11484.8         101       1001.5  Athlete 5\n",
       "\n",
       "[4016839 rows x 4 columns]"
      ]
     },
     "execution_count": 12,
     "metadata": {},
     "output_type": "execute_result"
    }
   ],
   "source": [
    "#Make a new dataset (or dataframe) using only measures of interest (seconds, heart rate, player load and Athlete ID).\n",
    "\n",
    "ColumnsToKeep = ['Seconds', 'Heart Rate' ,'Player Load','AthleteID']\n",
    "\n",
    "df = df[ColumnsToKeep]\n",
    "df"
   ]
  },
  {
   "cell_type": "markdown",
   "metadata": {
    "cell_id": "00015-e63367d1-8165-4b49-920c-5983eaa3d6ca",
    "deepnote_cell_type": "markdown",
    "tags": []
   },
   "source": [
    "### Step 3"
   ]
  },
  {
   "cell_type": "code",
   "execution_count": 23,
   "metadata": {
    "cell_id": "00017-d702c1c9-fea4-4398-88d7-5300cd383269",
    "deepnote_cell_type": "code",
    "deepnote_to_be_reexecuted": false,
    "execution_millis": 131,
    "execution_start": 1623677303446,
    "source_hash": "6ae7d800",
    "tags": []
   },
   "outputs": [
    {
     "data": {
      "text/html": [
       "<div>\n",
       "<style scoped>\n",
       "    .dataframe tbody tr th:only-of-type {\n",
       "        vertical-align: middle;\n",
       "    }\n",
       "\n",
       "    .dataframe tbody tr th {\n",
       "        vertical-align: top;\n",
       "    }\n",
       "\n",
       "    .dataframe thead th {\n",
       "        text-align: right;\n",
       "    }\n",
       "</style>\n",
       "<table border=\"1\" class=\"dataframe\">\n",
       "  <thead>\n",
       "    <tr style=\"text-align: right;\">\n",
       "      <th></th>\n",
       "      <th>Seconds</th>\n",
       "      <th>Heart Rate</th>\n",
       "      <th>Player Load</th>\n",
       "      <th>AthleteID</th>\n",
       "      <th>ZeroHR</th>\n",
       "    </tr>\n",
       "    <tr>\n",
       "      <th>Timestamp</th>\n",
       "      <th></th>\n",
       "      <th></th>\n",
       "      <th></th>\n",
       "      <th></th>\n",
       "      <th></th>\n",
       "    </tr>\n",
       "  </thead>\n",
       "  <tbody>\n",
       "    <tr>\n",
       "      <th>2019-03-09 15:57:49</th>\n",
       "      <td>0.0</td>\n",
       "      <td>0</td>\n",
       "      <td>0.0</td>\n",
       "      <td>Athlete 10</td>\n",
       "      <td>1</td>\n",
       "    </tr>\n",
       "    <tr>\n",
       "      <th>2019-03-09 15:57:49</th>\n",
       "      <td>0.1</td>\n",
       "      <td>0</td>\n",
       "      <td>0.0</td>\n",
       "      <td>Athlete 10</td>\n",
       "      <td>1</td>\n",
       "    </tr>\n",
       "    <tr>\n",
       "      <th>2019-03-09 15:57:49</th>\n",
       "      <td>0.2</td>\n",
       "      <td>0</td>\n",
       "      <td>0.0</td>\n",
       "      <td>Athlete 10</td>\n",
       "      <td>1</td>\n",
       "    </tr>\n",
       "    <tr>\n",
       "      <th>2019-03-09 15:57:49</th>\n",
       "      <td>0.3</td>\n",
       "      <td>0</td>\n",
       "      <td>0.0</td>\n",
       "      <td>Athlete 10</td>\n",
       "      <td>1</td>\n",
       "    </tr>\n",
       "    <tr>\n",
       "      <th>2019-03-09 15:57:49</th>\n",
       "      <td>0.4</td>\n",
       "      <td>0</td>\n",
       "      <td>0.0</td>\n",
       "      <td>Athlete 10</td>\n",
       "      <td>1</td>\n",
       "    </tr>\n",
       "    <tr>\n",
       "      <th>...</th>\n",
       "      <td>...</td>\n",
       "      <td>...</td>\n",
       "      <td>...</td>\n",
       "      <td>...</td>\n",
       "      <td>...</td>\n",
       "    </tr>\n",
       "    <tr>\n",
       "      <th>2019-03-09 19:08:14</th>\n",
       "      <td>11348.4</td>\n",
       "      <td>108</td>\n",
       "      <td>470.6</td>\n",
       "      <td>Athlete 8</td>\n",
       "      <td>0</td>\n",
       "    </tr>\n",
       "    <tr>\n",
       "      <th>2019-03-09 19:08:14</th>\n",
       "      <td>11348.5</td>\n",
       "      <td>106</td>\n",
       "      <td>470.6</td>\n",
       "      <td>Athlete 8</td>\n",
       "      <td>0</td>\n",
       "    </tr>\n",
       "    <tr>\n",
       "      <th>2019-03-09 19:08:14</th>\n",
       "      <td>11348.6</td>\n",
       "      <td>106</td>\n",
       "      <td>470.6</td>\n",
       "      <td>Athlete 8</td>\n",
       "      <td>0</td>\n",
       "    </tr>\n",
       "    <tr>\n",
       "      <th>2019-03-09 19:08:14</th>\n",
       "      <td>11348.7</td>\n",
       "      <td>106</td>\n",
       "      <td>470.6</td>\n",
       "      <td>Athlete 8</td>\n",
       "      <td>0</td>\n",
       "    </tr>\n",
       "    <tr>\n",
       "      <th>2019-03-09 19:08:15</th>\n",
       "      <td>11348.8</td>\n",
       "      <td>106</td>\n",
       "      <td>470.6</td>\n",
       "      <td>Athlete 8</td>\n",
       "      <td>0</td>\n",
       "    </tr>\n",
       "  </tbody>\n",
       "</table>\n",
       "<p>1477112 rows × 5 columns</p>\n",
       "</div>"
      ],
      "text/plain": [
       "                     Seconds  Heart Rate  Player Load   AthleteID  ZeroHR\n",
       "Timestamp                                                                \n",
       "2019-03-09 15:57:49      0.0           0          0.0  Athlete 10       1\n",
       "2019-03-09 15:57:49      0.1           0          0.0  Athlete 10       1\n",
       "2019-03-09 15:57:49      0.2           0          0.0  Athlete 10       1\n",
       "2019-03-09 15:57:49      0.3           0          0.0  Athlete 10       1\n",
       "2019-03-09 15:57:49      0.4           0          0.0  Athlete 10       1\n",
       "...                      ...         ...          ...         ...     ...\n",
       "2019-03-09 19:08:14  11348.4         108        470.6   Athlete 8       0\n",
       "2019-03-09 19:08:14  11348.5         106        470.6   Athlete 8       0\n",
       "2019-03-09 19:08:14  11348.6         106        470.6   Athlete 8       0\n",
       "2019-03-09 19:08:14  11348.7         106        470.6   Athlete 8       0\n",
       "2019-03-09 19:08:15  11348.8         106        470.6   Athlete 8       0\n",
       "\n",
       "[1477112 rows x 5 columns]"
      ]
     },
     "execution_count": 23,
     "metadata": {},
     "output_type": "execute_result"
    }
   ],
   "source": [
    "df.index = pd.to_datetime(df.index)\n",
    "df = df.loc['2019-03-09']\n",
    "df"
   ]
  },
  {
   "cell_type": "markdown",
   "metadata": {
    "cell_id": "00019-3476bdf2-2db8-4c14-92f7-7317c5af70ea",
    "deepnote_cell_type": "markdown",
    "tags": []
   },
   "source": [
    "### Step 4"
   ]
  },
  {
   "cell_type": "code",
   "execution_count": 24,
   "metadata": {
    "cell_id": "00021-0e12a6ef-1492-4808-81f8-4dcae2ba29f5",
    "deepnote_cell_type": "code",
    "deepnote_to_be_reexecuted": false,
    "execution_millis": 104,
    "execution_start": 1623675618990,
    "source_hash": "6ec850fd",
    "tags": []
   },
   "outputs": [
    {
     "data": {
      "text/plain": [
       "69452"
      ]
     },
     "execution_count": 24,
     "metadata": {},
     "output_type": "execute_result"
    }
   ],
   "source": [
    "# Determine the total number of HR data points that were recorded with a value of zero.\n",
    "\n",
    "ZeroHR = df[df['Heart Rate'] == 0].shape[0]\n",
    "ZeroHR"
   ]
  },
  {
   "cell_type": "markdown",
   "metadata": {
    "cell_id": "00032-75c7f726-4bb1-4ccf-aa9a-2b1d7b3c9fa1",
    "deepnote_cell_type": "markdown",
    "tags": []
   },
   "source": [
    "### Step 5"
   ]
  },
  {
   "cell_type": "code",
   "execution_count": 25,
   "metadata": {
    "cell_id": "00034-5200b046-73ee-4411-90d8-61f61271306a",
    "deepnote_cell_type": "code",
    "deepnote_to_be_reexecuted": false,
    "execution_millis": 21,
    "execution_start": 1623677434210,
    "source_hash": "fa41ea1d",
    "tags": []
   },
   "outputs": [
    {
     "data": {
      "text/plain": [
       "AthleteID\n",
       "Athlete 1      3001\n",
       "Athlete 10    10032\n",
       "Athlete 11     8293\n",
       "Athlete 12     4632\n",
       "Athlete 13     7848\n",
       "Athlete 2      4758\n",
       "Athlete 3      6732\n",
       "Athlete 4      2920\n",
       "Athlete 5      5475\n",
       "Athlete 6      4717\n",
       "Athlete 7      1751\n",
       "Athlete 8      3590\n",
       "Athlete 9      5703\n",
       "Name: ZeroHR, dtype: int64"
      ]
     },
     "execution_count": 25,
     "metadata": {},
     "output_type": "execute_result"
    }
   ],
   "source": [
    "# Determine the % of the missing HR data for each individual athlete.\n",
    "\n",
    "df['ZeroHR'] = (df['Heart Rate'] == 0).astype(int)\n",
    "\n",
    "hr_data_summary = df.groupby('AthleteID')['ZeroHR'].sum()\n",
    "hr_data_summary"
   ]
  },
  {
   "cell_type": "code",
   "execution_count": 26,
   "metadata": {},
   "outputs": [
    {
     "data": {
      "text/plain": [
       "AthleteID\n",
       "Athlete 1     2.646875\n",
       "Athlete 10    8.779899\n",
       "Athlete 11    7.308604\n",
       "Athlete 12    4.074273\n",
       "Athlete 13    6.923932\n",
       "Athlete 2     4.179954\n",
       "Athlete 3     5.930285\n",
       "Athlete 4     2.567056\n",
       "Athlete 5     4.818312\n",
       "Athlete 6     4.153056\n",
       "Athlete 7     1.544705\n",
       "Athlete 8     3.163302\n",
       "Athlete 9     5.010587\n",
       "Name: Heart Rate, dtype: float64"
      ]
     },
     "execution_count": 26,
     "metadata": {},
     "output_type": "execute_result"
    }
   ],
   "source": [
    "missing_hr_percentage = df.groupby('AthleteID')['Heart Rate'].apply(lambda x: ((x == 0).sum() / len(x)) * 100)\n",
    "\n",
    "missing_hr_percentage"
   ]
  },
  {
   "cell_type": "markdown",
   "metadata": {
    "cell_id": "00017-b854b105-4c01-4d4e-9296-c296e1788d48",
    "deepnote_cell_type": "markdown",
    "tags": []
   },
   "source": [
    "### Step 6\n"
   ]
  },
  {
   "cell_type": "code",
   "execution_count": 31,
   "metadata": {
    "cell_id": "00051-5a3b3fd6-c706-4aa0-ac3f-11a7af8c69a2",
    "deepnote_cell_type": "code",
    "deepnote_to_be_reexecuted": false,
    "execution_millis": 40,
    "execution_start": 1623677465573,
    "source_hash": "60569f79",
    "tags": []
   },
   "outputs": [
    {
     "data": {
      "image/png": "[encoded data removed]",
      "text/plain": [
       "<Figure size 432x288 with 1 Axes>"
      ]
     },
     "metadata": {
      "needs_background": "light"
     },
     "output_type": "display_data"
    }
   ],
   "source": [
    "# Plot the heart rates across the session (ie. seconds vs heart rate) for the players with \n",
    "# the highest and the lowest player loads for the game session.\n",
    "\n",
    "df.index = pd.to_datetime(df.index)\n",
    "\n",
    "grouped = df.groupby('AthleteID')\n",
    "\n",
    "player_loads = grouped['Player Load'].sum()\n",
    "\n",
    "athlete_with_highest_load = player_loads.idxmax()\n",
    "athlete_with_lowest_load = player_loads.idxmin()\n",
    "\n",
    "data_high_load = grouped.get_group(athlete_with_highest_load)\n",
    "data_low_load = grouped.get_group(athlete_with_lowest_load)\n",
    "\n",
    "plt.figure(figsize=(6, 4))\n",
    "\n",
    "plt.plot(data_high_load.index, data_high_load['Heart Rate'], label='Player with highest load', color='blue')\n",
    "\n",
    "plt.plot(data_low_load.index, data_low_load['Heart Rate'], label='Player with lowest load', color='red')\n",
    "\n",
    "plt.xlabel('Timestamp')\n",
    "plt.ylabel('Heart Rate')\n",
    "plt.title('Heart Rates Across the Session')\n",
    "plt.legend()\n",
    "plt.grid(True)\n",
    "plt.show()\n"
   ]
  },
  {
   "cell_type": "markdown",
   "metadata": {
    "cell_id": "00021-192c2df4-7d79-4b36-966a-7a45481d3fe4",
    "deepnote_cell_type": "markdown",
    "tags": []
   },
   "source": [
    "### Step 7"
   ]
  },
  {
   "cell_type": "code",
   "execution_count": 32,
   "metadata": {
    "cell_id": "00057-42b39687-be63-4d9f-b1ad-62caf1936aaa",
    "deepnote_cell_type": "code",
    "deepnote_to_be_reexecuted": false,
    "execution_millis": 268,
    "execution_start": 1623677489858,
    "source_hash": "b5e708d9",
    "tags": []
   },
   "outputs": [
    {
     "data": {
      "image/png": "[encoded data removed]",
      "text/plain": [
       "<Figure size 432x288 with 1 Axes>"
      ]
     },
     "metadata": {
      "needs_background": "light"
     },
     "output_type": "display_data"
    },
    {
     "name": "stdout",
     "output_type": "stream",
     "text": [
      "Approximate half-time period occurred at 5713.00 seconds or 95.22 minutes into the session.\n"
     ]
    }
   ],
   "source": [
    "# Plot the heart rates across the session (ie. seconds vs heart rate) for the mean of all players for \n",
    "# the game session and use the values to estimate when the half-time period occurred (approximately \n",
    "# how many seconds  (or minutes) into the session.\n",
    "\n",
    "df.index = pd.to_datetime(df.index)\n",
    "\n",
    "mean_heart_rates = df.groupby('Seconds')['Heart Rate'].mean()\n",
    "\n",
    "plt.plot(mean_heart_rates.index, mean_heart_rates.values, color='green')\n",
    "\n",
    "plt.xlabel('Time (seconds)')\n",
    "plt.ylabel('Mean Heart Rate')\n",
    "plt.title('Mean Heart Rates Across the Session')\n",
    "plt.grid(True)\n",
    "plt.show()\n",
    "\n",
    "half_time_seconds = mean_heart_rates.index[-1] / 2\n",
    "half_time_minutes = half_time_seconds / 60\n",
    "print(\"Approximate half-time period occurred at {:.2f} seconds or {:.2f} minutes into the session.\".format(half_time_seconds, half_time_minutes))"
   ]
  },
  {
   "cell_type": "markdown",
   "metadata": {
    "cell_id": "00059-4c51e254-3e57-4f31-82ff-f07d7268da3a",
    "deepnote_cell_type": "markdown",
    "tags": []
   },
   "source": [
    "### Step 8\n"
   ]
  },
  {
   "cell_type": "code",
   "execution_count": 34,
   "metadata": {
    "cell_id": "00061-b385fd7d-8b13-4690-b339-15a69cd61462",
    "deepnote_cell_type": "code",
    "deepnote_to_be_reexecuted": false,
    "execution_millis": 120,
    "execution_start": 1623675620600,
    "source_hash": "f75f5506",
    "tags": []
   },
   "outputs": [
    {
     "name": "stdout",
     "output_type": "stream",
     "text": [
      "TRIMP for Athlete 1: 900893.00\n",
      "TRIMP for Athlete 10: 813841.00\n",
      "TRIMP for Athlete 11: 461814.00\n",
      "TRIMP for Athlete 12: 300494.00\n",
      "TRIMP for Athlete 13: 475072.00\n",
      "TRIMP for Athlete 2: 627924.00\n",
      "TRIMP for Athlete 3: 320902.00\n",
      "TRIMP for Athlete 4: 252312.00\n",
      "TRIMP for Athlete 5: 755400.00\n",
      "TRIMP for Athlete 6: 491660.00\n",
      "TRIMP for Athlete 7: 889905.00\n",
      "TRIMP for Athlete 8: 562383.00\n",
      "TRIMP for Athlete 9: 867654.00\n"
     ]
    }
   ],
   "source": [
    "# Using the same estimations as the workbook (i.e. maximal heart rate of 200 beats per minute and \n",
    "# resting heart rate of 60), calculate the TRIMP value for each player on the team.\n",
    "# (Reminder - you need to calculate mean HR values to determine TRIMP)\n",
    "\n",
    "max_hr = 200  # beats per minute\n",
    "resting_hr = 60  # beats per minute\n",
    "\n",
    "df['HRR'] = df['Heart Rate'] - resting_hr\n",
    "\n",
    "def calculate_trimp(hr_values, durations):\n",
    "    trimp = sum((hr - resting_hr) * duration for hr, duration in zip(hr_values, durations))\n",
    "    return trimp\n",
    "\n",
    "grouped = df.groupby('AthleteID')\n",
    "\n",
    "trimp_values = {}\n",
    "for athlete, data in grouped:\n",
    "    durations = data.index.to_series().diff().fillna(pd.Timedelta(seconds=0)).dt.total_seconds()\n",
    "    trimp_values[athlete] = calculate_trimp(data['Heart Rate'], durations)\n",
    "\n",
    "for athlete, trimp in trimp_values.items():\n",
    "    print(f\"TRIMP for {athlete}: {trimp:.2f}\")\n"
   ]
  },
  {
   "cell_type": "markdown",
   "metadata": {
    "cell_id": "00025-36ec597a-2911-45e5-b605-8cf658fc344f",
    "deepnote_cell_type": "markdown",
    "tags": []
   },
   "source": [
    "### Step 9"
   ]
  },
  {
   "cell_type": "code",
   "execution_count": 39,
   "metadata": {},
   "outputs": [],
   "source": [
    "df = pd.read_csv(\"../Data/WBBtotal.csv\", index_col =[\"Timestamp\"], parse_dates=[\"Timestamp\"])\n"
   ]
  },
  {
   "cell_type": "code",
   "execution_count": 42,
   "metadata": {
    "cell_id": "00079-2be7a599-d1f4-4553-98b2-af5f441c39ff",
    "deepnote_cell_type": "code",
    "deepnote_to_be_reexecuted": false,
    "execution_millis": 5,
    "execution_start": 1623676885033,
    "source_hash": "41e47c23",
    "tags": []
   },
   "outputs": [
    {
     "name": "stdout",
     "output_type": "stream",
     "text": [
      "Top 5 athletes based on player load score:\n",
      "                     Seconds  Velocity  Acceleration  Odometer  Latitude  \\\n",
      "Timestamp                                                                  \n",
      "2019-03-08 16:44:52  11361.5         0             0         0         0   \n",
      "2019-03-08 16:44:52  11361.6         0             0         0         0   \n",
      "2019-03-08 16:44:52  11361.7         0             0         0         0   \n",
      "2019-03-08 16:44:52  11361.8         0             0         0         0   \n",
      "2019-03-08 16:44:52  11361.9         0             0         0         0   \n",
      "\n",
      "                     Longitude  Heart Rate  Player Load   AthleteID  \n",
      "Timestamp                                                            \n",
      "2019-03-08 16:44:52          0         141       1300.7  Athlete 10  \n",
      "2019-03-08 16:44:52          0         141       1300.7  Athlete 10  \n",
      "2019-03-08 16:44:52          0         141       1300.7  Athlete 10  \n",
      "2019-03-08 16:44:52          0         141       1300.7  Athlete 10  \n",
      "2019-03-08 16:44:52          0         141       1300.7  Athlete 10  \n"
     ]
    },
    {
     "data": {
      "text/plain": [
       "[]"
      ]
     },
     "execution_count": 42,
     "metadata": {},
     "output_type": "execute_result"
    }
   ],
   "source": [
    "# Identify the athletes with the top 5 TRIMP and player load scores.  Which of these was not part \n",
    "# of the top 5 on March 8th (answer can be found by looking back at  the workbook which focused on March 8th)\n",
    "df.index = pd.to_datetime(df.index)\n",
    "df = df.loc['2019-03-08']\n",
    "top_5_march_8th = df \n",
    "top_5_player_load = df.nlargest(5, 'Player Load')\n",
    "\n",
    "# Print the top 5 athletes based on player load score\n",
    "print(\"Top 5 athletes based on player load score:\")\n",
    "print(top_5_player_load)\n",
    "\n",
    "# Compare with the top 5 athletes on March 8th\n",
    "# Assuming you have a DataFrame named 'top_5_march_8th' containing the top 5 athletes on March 8th\n",
    "# You would need to adapt this part based on your actual data\n",
    "\n",
    "# Identify the athletes who were not part of the top 5 on March 8th\n",
    "not_in_march_8th_player_load = top_5_player_load[~top_5_player_load.index.isin(top_5_march_8th.index)]\n",
    "not_in_march_8th_player_load_names = not_in_march_8th_player_load.index.tolist()\n",
    "\n",
    "not_in_march_8th_player_load_names\n"
   ]
  },
  {
   "cell_type": "code",
   "execution_count": null,
   "metadata": {},
   "outputs": [],
   "source": []
  }
 ],
 "metadata": {
  "deepnote": {
   "is_reactive": false
  },
  "deepnote_execution_queue": [],
  "deepnote_notebook_id": "eaa87ba0-217d-437a-9f2e-8ba9cb8260ed",
  "kernelspec": {
   "display_name": "Python 3 (ipykernel)",
   "language": "python",
   "name": "python3"
  },
  "language_info": {
   "codemirror_mode": {
    "name": "ipython",
    "version": 3
   },
   "file_extension": ".py",
   "mimetype": "text/x-python",
   "name": "python",
   "nbconvert_exporter": "python",
   "pygments_lexer": "ipython3",
   "version": "3.11.5"
  }
 },
 "nbformat": 4,
 "nbformat_minor": 4
}
